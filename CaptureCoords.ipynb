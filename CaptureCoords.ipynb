{
 "cells": [
  {
   "cell_type": "markdown",
   "metadata": {},
   "source": [
    "<strong><h5>START WITH IMPORTING LIBRARIES</h5></strong>"
   ]
  },
  {
   "cell_type": "code",
   "execution_count": null,
   "metadata": {},
   "outputs": [],
   "source": [
    "%pip install mediapipe opencv-python pandas scikit-learn\n",
    "\n",
    "import mediapipe as mp # Import mediapipe\n",
    "import cv2 # Import opencv\n",
    "import csv # Import csv\n",
    "import os # Import sperating system\n",
    "import numpy as np # Import numpy"
   ]
  },
  {
   "cell_type": "markdown",
   "metadata": {},
   "source": [
    "<strong><h5>MAKE THE HEADERS OR COLUMN NAMES</h5></strong>"
   ]
  },
  {
   "cell_type": "code",
   "execution_count": null,
   "metadata": {},
   "outputs": [],
   "source": [
    "# Number of coordinates to detect\n",
    "num_coords = 33\n",
    "\n",
    "# Create the column names\n",
    "landmarks = ['class']\n",
    "for val in range(1, num_coords+1):\n",
    "    landmarks += ['x{}'.format(val), 'y{}'.format(val), 'z{}'.format(val), 'v{}'.format(val)]\n",
    "\n",
    "# Export to csv\n",
    "with open('coords.csv', mode='w', newline='') as f:\n",
    "    csv_writer = csv.writer(f, delimiter=',', quotechar='\"', quoting=csv.QUOTE_MINIMAL)\n",
    "    csv_writer.writerow(landmarks)"
   ]
  },
  {
   "cell_type": "markdown",
   "metadata": {},
   "source": [
    "<strong><h5>CAPTURE AND EXPORT COORDS TO CSV</h5></strong>"
   ]
  },
  {
   "cell_type": "code",
   "execution_count": null,
   "metadata": {},
   "outputs": [],
   "source": [
    "# Initializes MediaPipe\n",
    "mp_drawing = mp.solutions.drawing_utils\n",
    "mp_holistic = mp.solutions.holistic\n",
    "\n",
    "# Sets the class name\n",
    "class_name = \"pick\"\n",
    "\n",
    "# Path to the video dataset\n",
    "video_dir = 'C:/Users/evand/Mega/Projects/Thesis/python/pick/clean'  \n",
    "video_files = [f for f in os.listdir(video_dir) if f.endswith(('.mp4', '.mkv', '.avi'))]\n",
    "total_videos = len(video_files)\n",
    "\n",
    "# Configures the display window\n",
    "cv2.namedWindow('Processing Video Feed', cv2.WINDOW_NORMAL)\n",
    "cv2.setWindowProperty('Processing Video Feed', cv2.WND_PROP_TOPMOST, 1)  \n",
    "cv2.resizeWindow('Processing Video Feed', 1280, 720) \n",
    "\n",
    "# Loop through the entire video dataset\n",
    "try:\n",
    "    for i, video_file in enumerate(video_files, start=1):\n",
    "        cap = cv2.VideoCapture(os.path.join(video_dir, video_file))\n",
    "\n",
    "        # handle file error\n",
    "        if not cap.isOpened():\n",
    "            print(f\"Error: Could not open video file {video_file}\")\n",
    "            continue\n",
    "\n",
    "        # print status in CLI\n",
    "        print(f\"Processing {i}/{total_videos}: {video_file}\")\n",
    "\n",
    "        # Perform holistic human pose estimation\n",
    "        with mp_holistic.Holistic(min_detection_confidence=0.5, min_tracking_confidence=0.5) as holistic:\n",
    "            while cap.isOpened():\n",
    "                ret, frame = cap.read()\n",
    "\n",
    "                # display each video succession\n",
    "                if not ret:\n",
    "                    print(f\"End of video file: {video_file}\")\n",
    "                    break\n",
    "\n",
    "                # Maintain aspect ratio\n",
    "                height, width = frame.shape[:2]\n",
    "                aspect_ratio = width / height\n",
    "                new_width = 1280  # Define a new width\n",
    "                new_height = int(new_width / aspect_ratio)\n",
    "                frame = cv2.resize(frame, (new_width, new_height))\n",
    "\n",
    "                # Recolor feed\n",
    "                image = cv2.cvtColor(frame, cv2.COLOR_BGR2RGB)\n",
    "                image.flags.writeable = False        \n",
    "\n",
    "                # Perform detection\n",
    "                results = holistic.process(image)\n",
    "\n",
    "                # Recolor image back to BGR for rendering\n",
    "                image.flags.writeable = True   \n",
    "                image = cv2.cvtColor(image, cv2.COLOR_RGB2BGR)\n",
    "\n",
    "                # Draw landmarks on the frame\n",
    "                mp_drawing.draw_landmarks(image, results.right_hand_landmarks, mp_holistic.HAND_CONNECTIONS, \n",
    "                                         mp_drawing.DrawingSpec(color=(80,22,10), thickness=2, circle_radius=4),\n",
    "                                         mp_drawing.DrawingSpec(color=(80,44,121), thickness=2, circle_radius=2))\n",
    "\n",
    "                mp_drawing.draw_landmarks(image, results.left_hand_landmarks, mp_holistic.HAND_CONNECTIONS, \n",
    "                                         mp_drawing.DrawingSpec(color=(121,22,76), thickness=2, circle_radius=4),\n",
    "                                         mp_drawing.DrawingSpec(color=(121,44,250), thickness=2, circle_radius=2))\n",
    "\n",
    "                mp_drawing.draw_landmarks(image, results.pose_landmarks, mp_holistic.POSE_CONNECTIONS, \n",
    "                                         mp_drawing.DrawingSpec(color=(245,117,66), thickness=2, circle_radius=4),\n",
    "                                         mp_drawing.DrawingSpec(color=(245,66,230), thickness=2, circle_radius=2))\n",
    "\n",
    "                # Draw the progress bar\n",
    "                progress = int((i / total_videos) * new_width)\n",
    "                progress_bar_height = 5  \n",
    "                cv2.rectangle(image, (10, new_height - progress_bar_height - 5), (10 + progress, new_height - 5), (0, 255, 0), -1)\n",
    "\n",
    "                # Export coordinates to CSV\n",
    "                try:\n",
    "                    if results.pose_landmarks:\n",
    "                        pose = results.pose_landmarks.landmark\n",
    "                        pose_row = list(np.array([[landmark.x, landmark.y, landmark.z, landmark.visibility] for landmark in pose]).flatten())\n",
    "\n",
    "                        # Concatenate rows\n",
    "                        row = pose_row\n",
    "\n",
    "                        # Append class name \n",
    "                        row.insert(0, class_name)  \n",
    "\n",
    "                        # Export to CSV\n",
    "                        with open('coords.csv', mode='a', newline='') as f:\n",
    "                            csv_writer = csv.writer(f, delimiter=',', quotechar='\"', quoting=csv.QUOTE_MINIMAL)\n",
    "                            csv_writer.writerow(row)\n",
    "                            f.flush()  # Ensure data is written to the file\n",
    "\n",
    "                except Exception as e:\n",
    "                    print(f\"Error writing to CSV for {video_file}: {e}\")\n",
    "                    break\n",
    "\n",
    "                # Display the image in the window\n",
    "                cv2.imshow('Processing Video Feed', image)\n",
    "\n",
    "                # Small delay to allow for window events\n",
    "                if cv2.waitKey(1) & 0xFF == ord('q'):\n",
    "                    break\n",
    "\n",
    "                # Check if the window was closed\n",
    "                if cv2.getWindowProperty('Processing Video Feed', cv2.WND_PROP_VISIBLE) < 1:\n",
    "                    break\n",
    "\n",
    "        cap.release()\n",
    "\n",
    "except KeyboardInterrupt:\n",
    "    print(\"Process interrupted by user.\")\n",
    "\n",
    "finally:\n",
    "    # Ensure the window is closed properly\n",
    "    cv2.destroyAllWindows()\n",
    "    print(\"Processing Finished.\")"
   ]
  },
  {
   "cell_type": "markdown",
   "metadata": {},
   "source": [
    "<strong><h5>COORDINATES CHART</h5></strong>"
   ]
  },
  {
   "cell_type": "markdown",
   "metadata": {},
   "source": [
    "<img src=\"https://i.imgur.com/AzKNp7A.png\">"
   ]
  }
 ],
 "metadata": {
  "kernelspec": {
   "display_name": "Python 3",
   "language": "python",
   "name": "python3"
  },
  "language_info": {
   "codemirror_mode": {
    "name": "ipython",
    "version": 3
   },
   "file_extension": ".py",
   "mimetype": "text/x-python",
   "name": "python",
   "nbconvert_exporter": "python",
   "pygments_lexer": "ipython3",
   "version": "3.12.3"
  }
 },
 "nbformat": 4,
 "nbformat_minor": 2
}
